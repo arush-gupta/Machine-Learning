{
  "nbformat": 4,
  "nbformat_minor": 0,
  "metadata": {
    "colab": {
      "provenance": [],
      "authorship_tag": "ABX9TyMnZslnI13AMbC2e5eJZny8",
      "include_colab_link": true
    },
    "kernelspec": {
      "name": "python3",
      "display_name": "Python 3"
    },
    "language_info": {
      "name": "python"
    }
  },
  "cells": [
    {
      "cell_type": "markdown",
      "metadata": {
        "id": "view-in-github",
        "colab_type": "text"
      },
      "source": [
        "<a href=\"https://colab.research.google.com/github/arush-gupta/Machine-Learning/blob/main/Quadratic%20Polynomial%20Roots%20(Real).ipynb\" target=\"_parent\"><img src=\"https://colab.research.google.com/assets/colab-badge.svg\" alt=\"Open In Colab\"/></a>"
      ]
    },
    {
      "cell_type": "markdown",
      "source": [
        "Machine learning roots of quadratic polynomials with real roots by training the neural network on the coefficients of quadratic polynomials with real roots"
      ],
      "metadata": {
        "id": "bRBVY-SEjtth"
      }
    },
    {
      "cell_type": "code",
      "source": [
        "import numpy as np\n",
        "import tensorflow as tf\n",
        "from sklearn.model_selection import train_test_split\n",
        "\n",
        "# Generating the dataset\n",
        "r1 = np.linspace(-10,10,101)\n",
        "r2 = np.linspace(-10,10,101)\n",
        "data = np.column_stack((-r1-r2,np.multiply(r1,r2)))\n",
        "labels = np.column_stack((r1,r2))\n",
        "\n",
        "# Splitting the data into training and testing sets\n",
        "train_data, test_data, train_labels, test_labels = train_test_split(data, labels, test_size=0.2, random_state=42)\n",
        "\n",
        "# The neural network architecture:\n",
        "model = tf.keras.Sequential([\n",
        "    tf.keras.layers.Dense(32, activation='relu', input_shape=(2,)),\n",
        "    tf.keras.layers.Dense(32, activation='relu'),\n",
        "    tf.keras.layers.Dense(32, activation='relu'),\n",
        "    tf.keras.layers.Dense(2)  # 2 output nodes for x1 and x2\n",
        "])\n",
        "\n",
        "# Compiling the model\n",
        "model.compile(optimizer='adam', loss='mean_squared_error')\n",
        "\n",
        "# Training the model\n",
        "model.fit(train_data, train_labels, epochs=100, batch_size=32, validation_split=0.1)\n",
        "\n",
        "# Evaluating the model\n",
        "loss = model.evaluate(test_data, test_labels)\n",
        "print(f\"Test loss: {loss:.4f}\")"
      ],
      "metadata": {
        "id": "TVP5_lrMt__l",
        "colab": {
          "base_uri": "https://localhost:8080/"
        },
        "outputId": "8f915ded-fb1e-4427-89b9-1d7a17504a93"
      },
      "execution_count": 6,
      "outputs": [
        {
          "output_type": "stream",
          "name": "stdout",
          "text": [
            "Epoch 1/100\n",
            "3/3 [==============================] - 1s 118ms/step - loss: 45.6487 - val_loss: 23.5346\n",
            "Epoch 2/100\n",
            "3/3 [==============================] - 0s 22ms/step - loss: 33.0953 - val_loss: 22.0385\n",
            "Epoch 3/100\n",
            "3/3 [==============================] - 0s 23ms/step - loss: 27.5269 - val_loss: 22.0188\n",
            "Epoch 4/100\n",
            "3/3 [==============================] - 0s 23ms/step - loss: 23.8763 - val_loss: 21.5317\n",
            "Epoch 5/100\n",
            "3/3 [==============================] - 0s 28ms/step - loss: 21.4108 - val_loss: 20.5096\n",
            "Epoch 6/100\n",
            "3/3 [==============================] - 0s 27ms/step - loss: 19.0616 - val_loss: 19.0149\n",
            "Epoch 7/100\n",
            "3/3 [==============================] - 0s 24ms/step - loss: 16.2501 - val_loss: 16.7165\n",
            "Epoch 8/100\n",
            "3/3 [==============================] - 0s 22ms/step - loss: 13.6207 - val_loss: 13.9151\n",
            "Epoch 9/100\n",
            "3/3 [==============================] - 0s 25ms/step - loss: 10.8916 - val_loss: 10.9977\n",
            "Epoch 10/100\n",
            "3/3 [==============================] - 0s 37ms/step - loss: 8.0922 - val_loss: 7.9406\n",
            "Epoch 11/100\n",
            "3/3 [==============================] - 0s 30ms/step - loss: 5.6197 - val_loss: 5.0827\n",
            "Epoch 12/100\n",
            "3/3 [==============================] - 0s 23ms/step - loss: 3.6026 - val_loss: 2.9676\n",
            "Epoch 13/100\n",
            "3/3 [==============================] - 0s 26ms/step - loss: 2.0179 - val_loss: 1.5796\n",
            "Epoch 14/100\n",
            "3/3 [==============================] - 0s 36ms/step - loss: 1.0632 - val_loss: 0.8229\n",
            "Epoch 15/100\n",
            "3/3 [==============================] - 0s 26ms/step - loss: 0.6167 - val_loss: 0.4819\n",
            "Epoch 16/100\n",
            "3/3 [==============================] - 0s 33ms/step - loss: 0.4191 - val_loss: 0.3210\n",
            "Epoch 17/100\n",
            "3/3 [==============================] - 0s 25ms/step - loss: 0.3439 - val_loss: 0.2733\n",
            "Epoch 18/100\n",
            "3/3 [==============================] - 0s 25ms/step - loss: 0.3221 - val_loss: 0.3042\n",
            "Epoch 19/100\n",
            "3/3 [==============================] - 0s 18ms/step - loss: 0.2939 - val_loss: 0.3211\n",
            "Epoch 20/100\n",
            "3/3 [==============================] - 0s 17ms/step - loss: 0.2687 - val_loss: 0.2436\n",
            "Epoch 21/100\n",
            "3/3 [==============================] - 0s 16ms/step - loss: 0.1939 - val_loss: 0.1389\n",
            "Epoch 22/100\n",
            "3/3 [==============================] - 0s 18ms/step - loss: 0.1171 - val_loss: 0.0835\n",
            "Epoch 23/100\n",
            "3/3 [==============================] - 0s 18ms/step - loss: 0.0660 - val_loss: 0.0471\n",
            "Epoch 24/100\n",
            "3/3 [==============================] - 0s 17ms/step - loss: 0.0406 - val_loss: 0.0295\n",
            "Epoch 25/100\n",
            "3/3 [==============================] - 0s 16ms/step - loss: 0.0378 - val_loss: 0.0256\n",
            "Epoch 26/100\n",
            "3/3 [==============================] - 0s 16ms/step - loss: 0.0385 - val_loss: 0.0283\n",
            "Epoch 27/100\n",
            "3/3 [==============================] - 0s 17ms/step - loss: 0.0365 - val_loss: 0.0229\n",
            "Epoch 28/100\n",
            "3/3 [==============================] - 0s 32ms/step - loss: 0.0311 - val_loss: 0.0206\n",
            "Epoch 29/100\n",
            "3/3 [==============================] - 0s 67ms/step - loss: 0.0264 - val_loss: 0.0207\n",
            "Epoch 30/100\n",
            "3/3 [==============================] - 0s 49ms/step - loss: 0.0203 - val_loss: 0.0207\n",
            "Epoch 31/100\n",
            "3/3 [==============================] - 0s 45ms/step - loss: 0.0162 - val_loss: 0.0201\n",
            "Epoch 32/100\n",
            "3/3 [==============================] - 0s 44ms/step - loss: 0.0153 - val_loss: 0.0175\n",
            "Epoch 33/100\n",
            "3/3 [==============================] - 0s 51ms/step - loss: 0.0143 - val_loss: 0.0156\n",
            "Epoch 34/100\n",
            "3/3 [==============================] - 0s 33ms/step - loss: 0.0123 - val_loss: 0.0090\n",
            "Epoch 35/100\n",
            "3/3 [==============================] - 0s 28ms/step - loss: 0.0107 - val_loss: 0.0092\n",
            "Epoch 36/100\n",
            "3/3 [==============================] - 0s 29ms/step - loss: 0.0091 - val_loss: 0.0130\n",
            "Epoch 37/100\n",
            "3/3 [==============================] - 0s 29ms/step - loss: 0.0095 - val_loss: 0.0102\n",
            "Epoch 38/100\n",
            "3/3 [==============================] - 0s 38ms/step - loss: 0.0079 - val_loss: 0.0059\n",
            "Epoch 39/100\n",
            "3/3 [==============================] - 0s 32ms/step - loss: 0.0065 - val_loss: 0.0057\n",
            "Epoch 40/100\n",
            "3/3 [==============================] - 0s 21ms/step - loss: 0.0057 - val_loss: 0.0055\n",
            "Epoch 41/100\n",
            "3/3 [==============================] - 0s 18ms/step - loss: 0.0046 - val_loss: 0.0067\n",
            "Epoch 42/100\n",
            "3/3 [==============================] - 0s 17ms/step - loss: 0.0045 - val_loss: 0.0062\n",
            "Epoch 43/100\n",
            "3/3 [==============================] - 0s 16ms/step - loss: 0.0042 - val_loss: 0.0046\n",
            "Epoch 44/100\n",
            "3/3 [==============================] - 0s 19ms/step - loss: 0.0034 - val_loss: 0.0043\n",
            "Epoch 45/100\n",
            "3/3 [==============================] - 0s 17ms/step - loss: 0.0037 - val_loss: 0.0031\n",
            "Epoch 46/100\n",
            "3/3 [==============================] - 0s 17ms/step - loss: 0.0031 - val_loss: 0.0027\n",
            "Epoch 47/100\n",
            "3/3 [==============================] - 0s 17ms/step - loss: 0.0028 - val_loss: 0.0026\n",
            "Epoch 48/100\n",
            "3/3 [==============================] - 0s 18ms/step - loss: 0.0026 - val_loss: 0.0026\n",
            "Epoch 49/100\n",
            "3/3 [==============================] - 0s 18ms/step - loss: 0.0023 - val_loss: 0.0028\n",
            "Epoch 50/100\n",
            "3/3 [==============================] - 0s 18ms/step - loss: 0.0023 - val_loss: 0.0030\n",
            "Epoch 51/100\n",
            "3/3 [==============================] - 0s 19ms/step - loss: 0.0021 - val_loss: 0.0033\n",
            "Epoch 52/100\n",
            "3/3 [==============================] - 0s 17ms/step - loss: 0.0021 - val_loss: 0.0030\n",
            "Epoch 53/100\n",
            "3/3 [==============================] - 0s 18ms/step - loss: 0.0020 - val_loss: 0.0029\n",
            "Epoch 54/100\n",
            "3/3 [==============================] - 0s 17ms/step - loss: 0.0018 - val_loss: 0.0029\n",
            "Epoch 55/100\n",
            "3/3 [==============================] - 0s 18ms/step - loss: 0.0017 - val_loss: 0.0026\n",
            "Epoch 56/100\n",
            "3/3 [==============================] - 0s 19ms/step - loss: 0.0015 - val_loss: 0.0025\n",
            "Epoch 57/100\n",
            "3/3 [==============================] - 0s 19ms/step - loss: 0.0016 - val_loss: 0.0024\n",
            "Epoch 58/100\n",
            "3/3 [==============================] - 0s 17ms/step - loss: 0.0014 - val_loss: 0.0027\n",
            "Epoch 59/100\n",
            "3/3 [==============================] - 0s 20ms/step - loss: 0.0014 - val_loss: 0.0026\n",
            "Epoch 60/100\n",
            "3/3 [==============================] - 0s 18ms/step - loss: 0.0014 - val_loss: 0.0024\n",
            "Epoch 61/100\n",
            "3/3 [==============================] - 0s 20ms/step - loss: 0.0013 - val_loss: 0.0030\n",
            "Epoch 62/100\n",
            "3/3 [==============================] - 0s 21ms/step - loss: 0.0014 - val_loss: 0.0026\n",
            "Epoch 63/100\n",
            "3/3 [==============================] - 0s 18ms/step - loss: 0.0014 - val_loss: 0.0025\n",
            "Epoch 64/100\n",
            "3/3 [==============================] - 0s 18ms/step - loss: 0.0011 - val_loss: 0.0028\n",
            "Epoch 65/100\n",
            "3/3 [==============================] - 0s 19ms/step - loss: 0.0015 - val_loss: 0.0024\n",
            "Epoch 66/100\n",
            "3/3 [==============================] - 0s 21ms/step - loss: 0.0011 - val_loss: 0.0027\n",
            "Epoch 67/100\n",
            "3/3 [==============================] - 0s 17ms/step - loss: 0.0011 - val_loss: 0.0024\n",
            "Epoch 68/100\n",
            "3/3 [==============================] - 0s 17ms/step - loss: 0.0010 - val_loss: 0.0021\n",
            "Epoch 69/100\n",
            "3/3 [==============================] - 0s 17ms/step - loss: 8.4537e-04 - val_loss: 0.0022\n",
            "Epoch 70/100\n",
            "3/3 [==============================] - 0s 18ms/step - loss: 9.1425e-04 - val_loss: 0.0022\n",
            "Epoch 71/100\n",
            "3/3 [==============================] - 0s 19ms/step - loss: 8.5451e-04 - val_loss: 0.0019\n",
            "Epoch 72/100\n",
            "3/3 [==============================] - 0s 18ms/step - loss: 8.3312e-04 - val_loss: 0.0018\n",
            "Epoch 73/100\n",
            "3/3 [==============================] - 0s 18ms/step - loss: 7.4105e-04 - val_loss: 0.0019\n",
            "Epoch 74/100\n",
            "3/3 [==============================] - 0s 18ms/step - loss: 7.8796e-04 - val_loss: 0.0019\n",
            "Epoch 75/100\n",
            "3/3 [==============================] - 0s 17ms/step - loss: 7.0079e-04 - val_loss: 0.0019\n",
            "Epoch 76/100\n",
            "3/3 [==============================] - 0s 17ms/step - loss: 7.5145e-04 - val_loss: 0.0019\n",
            "Epoch 77/100\n",
            "3/3 [==============================] - 0s 17ms/step - loss: 7.1661e-04 - val_loss: 0.0018\n",
            "Epoch 78/100\n",
            "3/3 [==============================] - 0s 35ms/step - loss: 7.5875e-04 - val_loss: 0.0016\n",
            "Epoch 79/100\n",
            "3/3 [==============================] - 0s 47ms/step - loss: 6.8588e-04 - val_loss: 0.0018\n",
            "Epoch 80/100\n",
            "3/3 [==============================] - 0s 26ms/step - loss: 6.6004e-04 - val_loss: 0.0018\n",
            "Epoch 81/100\n",
            "3/3 [==============================] - 0s 20ms/step - loss: 5.7034e-04 - val_loss: 0.0018\n",
            "Epoch 82/100\n",
            "3/3 [==============================] - 0s 20ms/step - loss: 6.1329e-04 - val_loss: 0.0017\n",
            "Epoch 83/100\n",
            "3/3 [==============================] - 0s 17ms/step - loss: 5.6103e-04 - val_loss: 0.0016\n",
            "Epoch 84/100\n",
            "3/3 [==============================] - 0s 18ms/step - loss: 5.6680e-04 - val_loss: 0.0016\n",
            "Epoch 85/100\n",
            "3/3 [==============================] - 0s 18ms/step - loss: 5.5085e-04 - val_loss: 0.0016\n",
            "Epoch 86/100\n",
            "3/3 [==============================] - 0s 17ms/step - loss: 5.0345e-04 - val_loss: 0.0016\n",
            "Epoch 87/100\n",
            "3/3 [==============================] - 0s 21ms/step - loss: 5.3965e-04 - val_loss: 0.0016\n",
            "Epoch 88/100\n",
            "3/3 [==============================] - 0s 18ms/step - loss: 4.8546e-04 - val_loss: 0.0017\n",
            "Epoch 89/100\n",
            "3/3 [==============================] - 0s 19ms/step - loss: 4.8720e-04 - val_loss: 0.0016\n",
            "Epoch 90/100\n",
            "3/3 [==============================] - 0s 17ms/step - loss: 5.4985e-04 - val_loss: 0.0016\n",
            "Epoch 91/100\n",
            "3/3 [==============================] - 0s 18ms/step - loss: 4.8065e-04 - val_loss: 0.0016\n",
            "Epoch 92/100\n",
            "3/3 [==============================] - 0s 37ms/step - loss: 5.0188e-04 - val_loss: 0.0015\n",
            "Epoch 93/100\n",
            "3/3 [==============================] - 0s 29ms/step - loss: 4.7727e-04 - val_loss: 0.0014\n",
            "Epoch 94/100\n",
            "3/3 [==============================] - 0s 36ms/step - loss: 4.2879e-04 - val_loss: 0.0015\n",
            "Epoch 95/100\n",
            "3/3 [==============================] - 0s 39ms/step - loss: 4.4921e-04 - val_loss: 0.0015\n",
            "Epoch 96/100\n",
            "3/3 [==============================] - 0s 30ms/step - loss: 4.6041e-04 - val_loss: 0.0015\n",
            "Epoch 97/100\n",
            "3/3 [==============================] - 0s 27ms/step - loss: 4.0169e-04 - val_loss: 0.0014\n",
            "Epoch 98/100\n",
            "3/3 [==============================] - 0s 43ms/step - loss: 4.7506e-04 - val_loss: 0.0014\n",
            "Epoch 99/100\n",
            "3/3 [==============================] - 0s 42ms/step - loss: 4.9890e-04 - val_loss: 0.0014\n",
            "Epoch 100/100\n",
            "3/3 [==============================] - 0s 18ms/step - loss: 4.2266e-04 - val_loss: 0.0013\n",
            "1/1 [==============================] - 0s 29ms/step - loss: 8.5941e-04\n",
            "Test loss: 0.0009\n"
          ]
        }
      ]
    },
    {
      "cell_type": "code",
      "source": [
        "# Prediction for quadratic polynomial with roots (-2,-2)\n",
        "sample_input = np.array([[4.0, 4.0]])  \n",
        "predicted_roots = model.predict(sample_input)\n",
        "print(\"Predicted roots:\", predicted_roots.flatten())"
      ],
      "metadata": {
        "colab": {
          "base_uri": "https://localhost:8080/"
        },
        "id": "-7Z_vURCkHxc",
        "outputId": "388d2b6c-9327-47da-8239-6169ef560e31"
      },
      "execution_count": 8,
      "outputs": [
        {
          "output_type": "stream",
          "name": "stdout",
          "text": [
            "1/1 [==============================] - 0s 42ms/step\n",
            "Predicted roots: [-2.012416 -2.001891]\n"
          ]
        }
      ]
    },
    {
      "cell_type": "code",
      "source": [
        "# Prediction for quadratic polynomial with roots (-1,-1)\n",
        "sample_input = np.array([[2.0, 1.0]]) \n",
        "predicted_roots = model.predict(sample_input)\n",
        "print(\"Predicted roots:\", predicted_roots.flatten())"
      ],
      "metadata": {
        "colab": {
          "base_uri": "https://localhost:8080/"
        },
        "id": "cupH5Yc2kgGs",
        "outputId": "033f6236-8c62-4cd9-c5ba-01fd2128e772"
      },
      "execution_count": 4,
      "outputs": [
        {
          "output_type": "stream",
          "name": "stdout",
          "text": [
            "1/1 [==============================] - 0s 36ms/step\n",
            "Predicted roots: [-0.9770104 -1.0055836]\n"
          ]
        }
      ]
    },
    {
      "cell_type": "code",
      "source": [
        "# Prediction for quadratic polynomial with roots (-3,-3)\n",
        "sample_input = np.array([[6.0, 9.0]]) \n",
        "predicted_roots = model.predict(sample_input)\n",
        "print(\"Predicted roots:\", predicted_roots.flatten())"
      ],
      "metadata": {
        "colab": {
          "base_uri": "https://localhost:8080/"
        },
        "id": "JULJEnj4kTq5",
        "outputId": "b4c41722-0e20-42c7-cf35-d06e263de068"
      },
      "execution_count": 9,
      "outputs": [
        {
          "output_type": "stream",
          "name": "stdout",
          "text": [
            "1/1 [==============================] - 0s 34ms/step\n",
            "Predicted roots: [-2.992424 -3.002782]\n"
          ]
        }
      ]
    },
    {
      "cell_type": "code",
      "source": [],
      "metadata": {
        "id": "YVhdg_9iu2OW"
      },
      "execution_count": null,
      "outputs": []
    }
  ]
}
